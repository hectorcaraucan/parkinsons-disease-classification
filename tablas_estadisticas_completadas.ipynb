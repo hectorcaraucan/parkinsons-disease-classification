{
  "nbformat": 4,
  "nbformat_minor": 0,
  "metadata": {
    "colab": {
      "provenance": [],
      "gpuType": "T4"
    },
    "kernelspec": {
      "name": "python3",
      "display_name": "Python 3"
    },
    "language_info": {
      "name": "python"
    },
    "accelerator": "GPU"
  },
  "cells": [
    {
      "cell_type": "code",
      "execution_count": 1,
      "metadata": {
        "colab": {
          "base_uri": "https://localhost:8080/"
        },
        "id": "lfeoLzIsmsxp",
        "outputId": "0d66127b-bd32-434f-b17f-0f5b50e41f90"
      },
      "outputs": [
        {
          "output_type": "stream",
          "name": "stdout",
          "text": [
            "Requirement already satisfied: openpyxl in /usr/local/lib/python3.11/dist-packages (3.1.5)\n",
            "Requirement already satisfied: et-xmlfile in /usr/local/lib/python3.11/dist-packages (from openpyxl) (2.0.0)\n",
            "Error: No se encontró el archivo tablas_estadistica.xlsx - Hoja1.csv. Asegúrate de haber subido todos los CSV.\n",
            "--- Resultados Consolidados ---\n",
            "             Validation           Algorithm       Metric      Mean       Min  \\\n",
            "0   Hold-Out-Stratified   MLP (10 neuronas)     Accuracy  0.838596  0.763158   \n",
            "1   Hold-Out-Stratified   MLP (10 neuronas)    Precision  0.833905  0.763158   \n",
            "2   Hold-Out-Stratified   MLP (10 neuronas)       Recall  0.988506  0.896552   \n",
            "3   Hold-Out-Stratified   MLP (10 neuronas)  Specificity  0.355556  0.000000   \n",
            "4   Hold-Out-Stratified  MLP (100 neuronas)     Accuracy  0.831579  0.736842   \n",
            "..                  ...                 ...          ...       ...       ...   \n",
            "79        Leave-One-Out           KNN (k=5)  Specificity  0.583333  0.583333   \n",
            "80        Leave-One-Out          KNN (k=27)     Accuracy  0.815385  0.815385   \n",
            "81        Leave-One-Out          KNN (k=27)    Precision  0.806630  0.806630   \n",
            "82        Leave-One-Out          KNN (k=27)       Recall  0.993197  0.993197   \n",
            "83        Leave-One-Out          KNN (k=27)  Specificity  0.270833  0.270833   \n",
            "\n",
            "         Max  \n",
            "0   0.894737  \n",
            "1   0.903226  \n",
            "2   1.000000  \n",
            "3   0.666667  \n",
            "4   0.921053  \n",
            "..       ...  \n",
            "79  0.583333  \n",
            "80  0.815385  \n",
            "81  0.806630  \n",
            "82  0.993197  \n",
            "83  0.270833  \n",
            "\n",
            "[84 rows x 6 columns]\n",
            "\n",
            "¡Proceso completado! La tabla con todos los resultados ha sido generada.\n",
            "Descarga el archivo 'tablas_estadisticas_completadas.xlsx' desde el panel izquierdo.\n"
          ]
        }
      ],
      "source": [
        "# Celda 1: Instalar la biblioteca para manejar archivos de Excel\n",
        "!pip install openpyxl\n",
        "\n",
        "# Celda 2: Cargar bibliotecas y los archivos de resultados\n",
        "import pandas as pd\n",
        "\n",
        "try:\n",
        "    df_hold_out = pd.read_csv('hold_out_results.csv')\n",
        "    df_k_fold = pd.read_csv('k_fold_results.csv')\n",
        "    df_loocv = pd.read_csv('loocv_results.csv')\n",
        "    # Cargar la plantilla. Es un CSV, pero lo trataremos como la base para el Excel.\n",
        "    df_plantilla = pd.read_csv('tablas_estadistica.xlsx - Hoja1.csv')\n",
        "    print(\"Archivos de resultados y plantilla cargados.\")\n",
        "except FileNotFoundError as e:\n",
        "    print(f\"Error: No se encontró el archivo {e.filename}. Asegúrate de haber subido todos los CSV.\")\n",
        "\n",
        "# Celda 3: Concatenar todos los resultados\n",
        "df_resultados_completos = pd.concat([df_hold_out, df_k_fold, df_loocv], ignore_index=True)\n",
        "\n",
        "print(\"--- Resultados Consolidados ---\")\n",
        "print(df_resultados_completos)\n",
        "\n",
        "# Celda 4: Llenado \"automático\" de la tabla\n",
        "# Creamos una nueva tabla de Excel a partir de los resultados en el formato deseado\n",
        "# Esta es una aproximación más robusta que modificar una plantilla existente\n",
        "\n",
        "# Reordenamos las columnas para que coincidan con un formato típico de reporte\n",
        "df_final = df_resultados_completos[['Validation', 'Algorithm', 'Metric', 'Mean', 'Min', 'Max']]\n",
        "\n",
        "# Guardar el DataFrame final en un nuevo archivo de Excel\n",
        "nombre_archivo_salida = 'tablas_estadisticas_completadas.xlsx'\n",
        "df_final.to_excel(nombre_archivo_salida, index=False, sheet_name='Resultados')\n",
        "\n",
        "print(f\"\\n¡Proceso completado! La tabla con todos los resultados ha sido generada.\")\n",
        "print(f\"Descarga el archivo '{nombre_archivo_salida}' desde el panel izquierdo.\")"
      ]
    }
  ]
}